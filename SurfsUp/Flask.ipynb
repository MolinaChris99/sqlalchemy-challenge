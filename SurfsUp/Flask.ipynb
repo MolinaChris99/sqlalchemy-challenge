{
 "cells": [
  {
   "cell_type": "code",
   "execution_count": 1,
   "id": "d55a79c0-d209-49b3-95c7-0c6503002d31",
   "metadata": {},
   "outputs": [],
   "source": [
    "# Import necessary libraries\n",
    "from flask import Flask, jsonify\n",
    "import pandas as pd\n",
    "import sqlite3"
   ]
  },
  {
   "cell_type": "code",
   "execution_count": 2,
   "id": "3983525c-e5cb-4f16-8987-51a0279eafcf",
   "metadata": {},
   "outputs": [],
   "source": [
    "# Set up Flask app\n",
    "app = Flask(__name__)"
   ]
  },
  {
   "cell_type": "code",
   "execution_count": 3,
   "id": "357a3ed7-3e02-4d3a-b016-749fee0fc9c7",
   "metadata": {},
   "outputs": [],
   "source": [
    "# Database path\n",
    "sqlite_file = './Resources/hawaii.sqlite'"
   ]
  },
  {
   "cell_type": "code",
   "execution_count": 4,
   "id": "65d89bcd-dcc5-4ff0-abd9-01e3ee268387",
   "metadata": {},
   "outputs": [],
   "source": [
    "# Connect to the database\n",
    "conn = sqlite3.connect(sqlite_file)\n",
    "cursor = conn.cursor()"
   ]
  },
  {
   "cell_type": "code",
   "execution_count": 5,
   "id": "86603d25-0d72-46ca-ad9a-36558a03e89f",
   "metadata": {},
   "outputs": [
    {
     "name": "stdout",
     "output_type": "stream",
     "text": [
      "Tables in the database: [('measurement',), ('station',)]\n"
     ]
    }
   ],
   "source": [
    "# Query all table names\n",
    "cursor.execute(\"SELECT name FROM sqlite_master WHERE type='table';\")\n",
    "tables = cursor.fetchall()\n",
    "\n",
    "print(\"Tables in the database:\", tables)"
   ]
  },
  {
   "cell_type": "code",
   "execution_count": 6,
   "id": "6dd743e8-86c6-44e4-9a6f-f75b0f64f3c6",
   "metadata": {},
   "outputs": [],
   "source": [
    "# Function to retrieve data from the database\n",
    "def get_data():\n",
    "    conn = sqlite3.connect(sqlite_file)\n",
    "\n",
    "    # Precipitation data: Last 12 months\n",
    "    latest_date_query = \"SELECT MAX(date) FROM measurement;\"\n",
    "    latest_date = pd.read_sql(latest_date_query, conn).iloc[0, 0]\n",
    "    one_year_ago = pd.to_datetime(latest_date) - pd.DateOffset(years=1)\n",
    "    one_year_ago_str = one_year_ago.strftime('%Y-%m-%d')\n",
    "\n",
    "    precipitation_query = f\"\"\"\n",
    "    SELECT date, prcp\n",
    "    FROM measurement\n",
    "    WHERE date >= '{one_year_ago_str}';\n",
    "    \"\"\"\n",
    "    precipitation_data = pd.read_sql(precipitation_query, conn)\n",
    "    precipitation_dict = precipitation_data.set_index(\"date\")[\"prcp\"].to_dict()\n",
    "\n",
    "    # Stations data\n",
    "    stations_query = \"SELECT station, name FROM station;\"\n",
    "    stations_data = pd.read_sql(stations_query, conn)\n",
    "    stations_list = stations_data.to_dict(orient=\"records\")\n",
    "\n",
    "    # Most active station\n",
    "    most_active_station_query = \"\"\"\n",
    "    SELECT station, COUNT(station) AS count\n",
    "    FROM measurement\n",
    "    GROUP BY station\n",
    "    ORDER BY count DESC\n",
    "    LIMIT 1;\n",
    "    \"\"\"\n",
    "    most_active_station = pd.read_sql(most_active_station_query, conn).iloc[0, 0]\n",
    "\n",
    "    # TOBS data: Last 12 months for the most active station\n",
    "    tobs_query = f\"\"\"\n",
    "    SELECT date, tobs\n",
    "    FROM measurement\n",
    "    WHERE station = '{most_active_station}' AND date >= '{one_year_ago_str}';\n",
    "    \"\"\"\n",
    "    tobs_data = pd.read_sql(tobs_query, conn)\n",
    "    tobs_list = tobs_data[\"tobs\"].tolist()\n",
    "\n",
    "    conn.close()\n",
    "\n",
    "    return precipitation_dict, stations_list, tobs_list, most_active_station"
   ]
  },
  {
   "cell_type": "code",
   "execution_count": 7,
   "id": "3d3a87e6-65af-4e73-a7bc-a63f97b1c728",
   "metadata": {},
   "outputs": [],
   "source": [
    "# Load the data for the Flask app\n",
    "precipitation_dict, stations_list, tobs_list, most_active_station = get_data()"
   ]
  },
  {
   "cell_type": "code",
   "execution_count": 8,
   "id": "277702f6-1468-4032-9f69-e08862be3faa",
   "metadata": {},
   "outputs": [],
   "source": [
    "# Flask Routes\n",
    "@app.route(\"/\")\n",
    "def home():\n",
    "    \"\"\"List all available routes.\"\"\"\n",
    "    return (\n",
    "        f\"Welcome to the Climate API!<br/>\"\n",
    "        f\"Available Routes:<br/>\"\n",
    "        f\"/api/v1.0/precipitation<br/>\"\n",
    "        f\"/api/v1.0/stations<br/>\"\n",
    "        f\"/api/v1.0/tobs<br/>\"\n",
    "        f\"/api/v1.0/&lt;start&gt;<br/>\"\n",
    "        f\"/api/v1.0/&lt;start&gt;/&lt;end&gt;\"\n",
    "    )\n",
    "\n",
    "@app.route(\"/api/v1.0/precipitation\")\n",
    "def precipitation():\n",
    "    \"\"\"Return JSON representation of precipitation data for the last 12 months.\"\"\"\n",
    "    return jsonify(precipitation_dict)\n",
    "\n",
    "@app.route(\"/api/v1.0/stations\")\n",
    "def stations():\n",
    "    \"\"\"Return JSON list of stations.\"\"\"\n",
    "    return jsonify(stations_list)\n",
    "\n",
    "@app.route(\"/api/v1.0/tobs\")\n",
    "def tobs():\n",
    "    \"\"\"Return JSON list of temperature observations for the most active station.\"\"\"\n",
    "    return jsonify(tobs_list)\n",
    "\n",
    "@app.route(\"/api/v1.0/<start>\")\n",
    "@app.route(\"/api/v1.0/<start>/<end>\")\n",
    "def temperature_summary(start, end=None):\n",
    "    \"\"\"Return JSON list of TMIN, TAVG, and TMAX for a given date range.\"\"\"\n",
    "    conn = sqlite3.connect(sqlite_file)\n",
    "\n",
    "    if end:\n",
    "        query = f\"\"\"\n",
    "        SELECT MIN(tobs) as TMIN, AVG(tobs) as TAVG, MAX(tobs) as TMAX\n",
    "        FROM measurement\n",
    "        WHERE date BETWEEN '{start}' AND '{end}';\n",
    "        \"\"\"\n",
    "    else:\n",
    "        query = f\"\"\"\n",
    "        SELECT MIN(tobs) as TMIN, AVG(tobs) as TAVG, MAX(tobs) as TMAX\n",
    "        FROM measurement\n",
    "        WHERE date >= '{start}';\n",
    "        \"\"\"\n",
    "    \n",
    "    result = pd.read_sql(query, conn)\n",
    "    conn.close()\n",
    "\n",
    "    summary = {\n",
    "        \"TMIN\": result[\"TMIN\"].iloc[0],\n",
    "        \"TAVG\": result[\"TAVG\"].iloc[0],\n",
    "        \"TMAX\": result[\"TMAX\"].iloc[0]\n",
    "    }\n",
    "    return jsonify(summary)"
   ]
  },
  {
   "cell_type": "code",
   "execution_count": 9,
   "id": "b7d263d7-38e4-4033-afb6-187ee5820a4a",
   "metadata": {},
   "outputs": [],
   "source": [
    "# Run the Flask app in Jupyter\n",
    "from werkzeug.serving import run_simple\n",
    "import threading\n",
    "\n",
    "def run_app():\n",
    "    run_simple('localhost', 5000, app)"
   ]
  },
  {
   "cell_type": "code",
   "execution_count": 10,
   "id": "d5d42a5d-1f50-4bcf-a46a-8bff4be36450",
   "metadata": {},
   "outputs": [
    {
     "name": "stderr",
     "output_type": "stream",
     "text": [
      "WARNING: This is a development server. Do not use it in a production deployment. Use a production WSGI server instead.\n",
      " * Running on http://localhost:5000\n",
      "Press CTRL+C to quit\n"
     ]
    }
   ],
   "source": [
    "# Run the app in a separate thread\n",
    "thread = threading.Thread(target=run_app)\n",
    "thread.start()"
   ]
  },
  {
   "cell_type": "code",
   "execution_count": null,
   "id": "324eed4e-58dc-4844-ab98-0835f2109e7c",
   "metadata": {},
   "outputs": [],
   "source": []
  }
 ],
 "metadata": {
  "kernelspec": {
   "display_name": "Python 3 (ipykernel)",
   "language": "python",
   "name": "python3"
  },
  "language_info": {
   "codemirror_mode": {
    "name": "ipython",
    "version": 3
   },
   "file_extension": ".py",
   "mimetype": "text/x-python",
   "name": "python",
   "nbconvert_exporter": "python",
   "pygments_lexer": "ipython3",
   "version": "3.12.7"
  }
 },
 "nbformat": 4,
 "nbformat_minor": 5
}
